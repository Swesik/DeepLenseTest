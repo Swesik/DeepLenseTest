{
 "cells": [
  {
   "cell_type": "code",
   "execution_count": 24,
   "id": "aff4d95d",
   "metadata": {},
   "outputs": [],
   "source": [
    "import numpy as np\n",
    "import math\n",
    "import matplotlib.pyplot as plt\n",
    "import tensorflow as tf\n",
    "from tensorflow import keras\n",
    "import os"
   ]
  },
  {
   "cell_type": "code",
   "execution_count": 120,
   "id": "0ea16f2f",
   "metadata": {},
   "outputs": [
    {
     "name": "stdout",
     "output_type": "stream",
     "text": [
      "files read =  10\n",
      "(10, 150, 150)\n",
      "(10,)\n"
     ]
    }
   ],
   "source": [
    "def load_class_data(path, class_num, og_dir, num_files = -1):\n",
    "    X = []\n",
    "    file_count = 0;\n",
    "    os.chdir(path)\n",
    "    for file in os.listdir():\n",
    "        file_count += 1\n",
    "        if num_files != -1 and file_count > num_files: \n",
    "            print(\"files read = \", file_count-1)\n",
    "            curr_dir = os.getcwd()\n",
    "            # Y = \n",
    "            # print(Y)\n",
    "            return X, np.array([class_num for i in range(X.shape[0])]);\n",
    "        if file.endswith(\".npy\"):\n",
    "            if len(X) == 0:\n",
    "                X = np.load(file)\n",
    "            else:\n",
    "                X = np.append(X,np.load(file),axis = 0)\n",
    "    print(file_count)\n",
    "    os.chdir(og_dir)\n",
    "    return X, np.array([class_num for i in range(X.shape[0])]);\n",
    "\n",
    "os.chdir(\"/Users/swesikramineni/github/DeepLenseTest\")\n",
    "# os.chdir(\"DeepLenseTest\")\n",
    "curr_dir = os.getcwd()\n",
    "X,Y = load_class_data(\"dataset/train/no\", 0, curr_dir, num_files = 10)\n",
    "print(X.shape)\n",
    "print(Y.shape)\n",
    "\n",
    "\n"
   ]
  },
  {
   "cell_type": "code",
   "execution_count": null,
   "id": "25aa32a3-1e59-46b3-8794-08119c9b2199",
   "metadata": {},
   "outputs": [],
   "source": []
  }
 ],
 "metadata": {
  "kernelspec": {
   "display_name": "Python 3 (ipykernel)",
   "language": "python",
   "name": "python3"
  },
  "language_info": {
   "codemirror_mode": {
    "name": "ipython",
    "version": 3
   },
   "file_extension": ".py",
   "mimetype": "text/x-python",
   "name": "python",
   "nbconvert_exporter": "python",
   "pygments_lexer": "ipython3",
   "version": "3.9.5"
  }
 },
 "nbformat": 4,
 "nbformat_minor": 5
}
